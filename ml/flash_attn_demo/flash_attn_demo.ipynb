{
 "cells": [
  {
   "cell_type": "markdown",
   "metadata": {},
   "source": [
    "## softmax calculation\n",
    "\n",
    "$$\n",
    "x = [x_1, x_2, ..., x_B] \\in R^B  \\\\\n",
    "\n",
    "m(x) := \\max_i \\ x_i \\\\\n",
    "\n",
    "f(x) := [e^{x_1 - m(x)} \\ ... \\  e^{x_B - m(x)}] \\\\\n",
    "\n",
    "l(x) := \\sum_i f(x)_i \\\\\n",
    "\n",
    "softmax(x) := \\frac {f(x)} {l(x)} \n",
    "$$\n",
    "\n"
   ]
  },
  {
   "cell_type": "code",
   "execution_count": 1,
   "metadata": {},
   "outputs": [],
   "source": [
    "import numpy as np"
   ]
  },
  {
   "cell_type": "code",
   "execution_count": null,
   "metadata": {},
   "outputs": [],
   "source": [
    "\n",
    "# 计算公式\n",
    "# S = Q * (K.transpose(-1, -2))\n",
    "# P = softmax(S) \n",
    "# O = P * V\n",
    "import numpy as np\n",
    "\n",
    "N = 4\n",
    "d = 2\n",
    "\n",
    "S = np.random.random(size=(1, N))\n",
    "V = np.random.random(size=(N, d))\n",
    "\n",
    "def tiled_softmax_then_matmul(S, V):\n",
    "    acc = np.zeros(shape=(1, d))\n",
    "    pre_max = float(\"-inf\")\n",
    "    pre_sum = 0\n",
    "    for i  in range(N): # 每个token，KV的列维度，为了简洁，这里把Q的行维度设为了1，因此没有了内循环\n",
    "        s_i = S[:,i] # 每列S\n",
    "        cur_max = max(pre_max, s_i) # 当前分块和之前分块一起的最大值\n",
    "        pre_sum *= (np.exp(pre_max - cur_max)) # L10\n",
    "        cur_sum = pre_sum + np.exp(s_i - cur_max) # 当前分块和之前分块一起的指数和\n",
    "        score = np.exp(s_i - cur_max) / cur_sum # 当前分块的softmax结果\n",
    "        scale = pre_sum / cur_sum # 因为上一个分块的结果是基于当时的softmax中间sum组成的分母（presum），现在这个分块又得到了新的中间sum（cursum），所以需要更新：对上一个分块的结果acc做一个scale，保证结果的正确性\n",
    "        acc *= scale \n",
    "        acc += score * V[i,] # scale后的中间结果加上当前分块的P * V = O\n",
    "        pre_max = cur_max \n",
    "        pre_sum = cur_sum \n",
    "    return acc"
   ]
  }
 ],
 "metadata": {
  "kernelspec": {
   "display_name": "Python 3",
   "language": "python",
   "name": "python3"
  },
  "language_info": {
   "codemirror_mode": {
    "name": "ipython",
    "version": 3
   },
   "file_extension": ".py",
   "mimetype": "text/x-python",
   "name": "python",
   "nbconvert_exporter": "python",
   "pygments_lexer": "ipython3",
   "version": "3.9.16"
  }
 },
 "nbformat": 4,
 "nbformat_minor": 2
}
