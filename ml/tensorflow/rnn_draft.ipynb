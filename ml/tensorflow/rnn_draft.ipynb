{
 "cells": [
  {
   "cell_type": "code",
   "execution_count": 4,
   "metadata": {},
   "outputs": [],
   "source": [
    "import tensorflow as tf \n",
    "from tensorflow.keras import layers"
   ]
  },
  {
   "cell_type": "markdown",
   "metadata": {},
   "source": [
    "### embedding层"
   ]
  },
  {
   "cell_type": "code",
   "execution_count": 7,
   "metadata": {},
   "outputs": [],
   "source": [
    "x = tf.range(10) # 生成10个单词的数字编码\n",
    "x = tf.random.shuffle(x) # 打散\n",
    "# 创建共10个单词，每个单词用长度为4的词向量表示的层\n",
    "net = layers.Embedding(10, 4)\n",
    "out = net(x) # 获取词向量"
   ]
  },
  {
   "cell_type": "markdown",
   "metadata": {},
   "source": [
    "### simpleRNNCell"
   ]
  },
  {
   "cell_type": "code",
   "execution_count": 14,
   "metadata": {},
   "outputs": [
    {
     "data": {
      "text/plain": [
       "[<tf.Variable 'kernel:0' shape=(4, 3) dtype=float32, numpy=\n",
       " array([[ 0.4753338 ,  0.77290404, -0.5207639 ],\n",
       "        [-0.22367418,  0.40107775,  0.3295288 ],\n",
       "        [ 0.5261164 ,  0.90216506,  0.22214079],\n",
       "        [ 0.7200396 ,  0.5737921 ,  0.7176019 ]], dtype=float32)>,\n",
       " <tf.Variable 'recurrent_kernel:0' shape=(3, 3) dtype=float32, numpy=\n",
       " array([[ 0.66041446,  0.17118202, -0.73112893],\n",
       "        [ 0.7415409 ,  0.00458086,  0.67089206],\n",
       "        [-0.11819384,  0.98522884,  0.12391309]], dtype=float32)>,\n",
       " <tf.Variable 'bias:0' shape=(3,) dtype=float32, numpy=array([0., 0., 0.], dtype=float32)>]"
      ]
     },
     "execution_count": 14,
     "metadata": {},
     "output_type": "execute_result"
    }
   ],
   "source": [
    "cell = layers.SimpleRNNCell(3) # \n",
    "cell.build(input_shape=(None, 4))\n",
    "cell.trainable_variables"
   ]
  },
  {
   "cell_type": "code",
   "execution_count": 15,
   "metadata": {},
   "outputs": [
    {
     "name": "stdout",
     "output_type": "stream",
     "text": [
      "(4, 64) (4, 64)\n"
     ]
    }
   ],
   "source": [
    "# 初始化状态向量，用列表包裹，统一格式\n",
    "h0 = [tf.zeros([4, 64])]\n",
    "x = tf.random.normal([4, 80, 100])\n",
    "xt = x[:, 0, :] # 所有句子的第1个单词\n",
    "cell = layers.SimpleRNNCell(64)\n",
    "out, h1 = cell(xt, h0)\n",
    "print(out.shape, h1[0].shape)"
   ]
  },
  {
   "cell_type": "code",
   "execution_count": 16,
   "metadata": {},
   "outputs": [
    {
     "data": {
      "text/plain": [
       "[<tf.Variable 'simple_rnn_cell_2/kernel:0' shape=(100, 64) dtype=float32, numpy=\n",
       " array([[ 0.03535517,  0.14948021,  0.07307623, ..., -0.02776171,\n",
       "          0.08764721,  0.05298425],\n",
       "        [-0.16031827, -0.15616907,  0.05125964, ...,  0.15466468,\n",
       "         -0.0346694 , -0.17176248],\n",
       "        [-0.01047529, -0.17942882,  0.01539038, ...,  0.09280826,\n",
       "          0.08615367, -0.1688209 ],\n",
       "        ...,\n",
       "        [ 0.03038654,  0.18205939, -0.05751233, ..., -0.0188766 ,\n",
       "         -0.1656006 ,  0.07365032],\n",
       "        [ 0.15264817, -0.01607955,  0.13656737, ...,  0.16937207,\n",
       "         -0.08111645,  0.10855119],\n",
       "        [-0.11303589,  0.19025747, -0.03144768, ...,  0.14847593,\n",
       "         -0.00880066,  0.02582245]], dtype=float32)>,\n",
       " <tf.Variable 'simple_rnn_cell_2/recurrent_kernel:0' shape=(64, 64) dtype=float32, numpy=\n",
       " array([[ 0.12915576, -0.30560005,  0.17059438, ...,  0.04052937,\n",
       "          0.11068136,  0.08433112],\n",
       "        [ 0.12508404, -0.10253453,  0.05845955, ..., -0.03166014,\n",
       "         -0.21328194,  0.05018922],\n",
       "        [ 0.14612527,  0.1575171 ,  0.04041719, ..., -0.01510345,\n",
       "         -0.09177931,  0.09994034],\n",
       "        ...,\n",
       "        [-0.25563347,  0.00637315,  0.14917062, ...,  0.15483478,\n",
       "         -0.257187  ,  0.090792  ],\n",
       "        [ 0.03892271, -0.1364268 ,  0.03141721, ...,  0.00537301,\n",
       "         -0.07785222, -0.09397324],\n",
       "        [ 0.07681161,  0.20745237, -0.07606198, ...,  0.24584126,\n",
       "          0.06128256,  0.17832936]], dtype=float32)>,\n",
       " <tf.Variable 'simple_rnn_cell_2/bias:0' shape=(64,) dtype=float32, numpy=\n",
       " array([0., 0., 0., 0., 0., 0., 0., 0., 0., 0., 0., 0., 0., 0., 0., 0., 0.,\n",
       "        0., 0., 0., 0., 0., 0., 0., 0., 0., 0., 0., 0., 0., 0., 0., 0., 0.,\n",
       "        0., 0., 0., 0., 0., 0., 0., 0., 0., 0., 0., 0., 0., 0., 0., 0., 0.,\n",
       "        0., 0., 0., 0., 0., 0., 0., 0., 0., 0., 0., 0., 0.], dtype=float32)>]"
      ]
     },
     "execution_count": 16,
     "metadata": {},
     "output_type": "execute_result"
    }
   ],
   "source": [
    "print(cell.trainable_variables)"
   ]
  },
  {
   "cell_type": "code",
   "execution_count": null,
   "metadata": {},
   "outputs": [],
   "source": []
  }
 ],
 "metadata": {
  "kernelspec": {
   "display_name": "Python 3.8.10 64-bit",
   "language": "python",
   "name": "python3"
  },
  "language_info": {
   "codemirror_mode": {
    "name": "ipython",
    "version": 3
   },
   "file_extension": ".py",
   "mimetype": "text/x-python",
   "name": "python",
   "nbconvert_exporter": "python",
   "pygments_lexer": "ipython3",
   "version": "3.8.10"
  },
  "orig_nbformat": 4,
  "vscode": {
   "interpreter": {
    "hash": "31f2aee4e71d21fbe5cf8b01ff0e069b9275f58929596ceb00d14d90e3e16cd6"
   }
  }
 },
 "nbformat": 4,
 "nbformat_minor": 2
}
